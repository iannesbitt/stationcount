{
 "cells": [
  {
   "cell_type": "markdown",
   "metadata": {},
   "source": [
    "# Note\n",
    "This module is working but currently the first connection time metadata on the FDSN server are incorrect. While the database gets updated, you can use the stationcount-20191109.ipynb notebook (the other one in this repository)."
   ]
  },
  {
   "cell_type": "code",
   "execution_count": 1,
   "metadata": {},
   "outputs": [],
   "source": [
    "from obspy import read_inventory\n",
    "from obspy.clients.fdsn import Client\n",
    "from obspy.core import UTCDateTime\n",
    "from datetime import timedelta\n",
    "import matplotlib.pyplot as plt\n",
    "import matplotlib.dates as mdates\n",
    "import matplotlib.cbook as cbook\n",
    "\n",
    "years = mdates.YearLocator()   # every year\n",
    "months = mdates.MonthLocator()  # every month\n",
    "years_fmt = mdates.DateFormatter('%Y')"
   ]
  },
  {
   "cell_type": "code",
   "execution_count": 2,
   "metadata": {},
   "outputs": [],
   "source": [
    "def make_plot(ymax):\n",
    "    fig, ax = plt.subplots(figsize=(14, 8))\n",
    "    plt.ylim(0,ymax*1.05)\n",
    "    plt.xlim(UTCDateTime(2016,11,1).datetime,(UTCDateTime.now()+timedelta(days=60)).datetime)\n",
    "    # titles\n",
    "    ax.set_ylabel('Raspberry Shake Stations')\n",
    "    ax.set_xlabel('Time')\n",
    "    # ticks\n",
    "    ax.xaxis.set_major_locator(years)\n",
    "    ax.xaxis.set_major_formatter(years_fmt)\n",
    "    ax.xaxis.set_minor_locator(months)\n",
    "    # labels\n",
    "    ax.format_xdata = mdates.DateFormatter(fmt)\n",
    "    fig.autofmt_xdate()\n",
    "    # grid\n",
    "    plt.grid(b=True, which='major', axis='both', dashes=(1,7))\n",
    "    return fig, ax\n",
    "\n",
    "def make_lists():\n",
    "    '''\n",
    "    gymnastics to create two lists:\n",
    "    - first connect time\n",
    "    - stationcount\n",
    "    '''\n",
    "    x = [] # list of times for x axis\n",
    "    d = {} # directory\n",
    "    # first get earliest starttimes for each entry from obspy station inventory\n",
    "    for sta in inv[0]:\n",
    "        d[sta.code] = sta.start_date.datetime\n",
    "    for sta in inv[0]:\n",
    "        if d[sta.code] > sta.start_date.datetime:\n",
    "            d[sta.code] = sta.start_date.datetime\n",
    "\n",
    "    # cull the list to stations active in the last two weeks\n",
    "    for sta in inv[0]:\n",
    "        if sta.is_active(starttime=end-timedelta(days=14)):\n",
    "            pass\n",
    "        else:\n",
    "            try:\n",
    "                del d[sta.code]\n",
    "            except:\n",
    "                pass\n",
    "\n",
    "    # create a list of start times and sort\n",
    "    for s in d:\n",
    "        x.append(d[s])\n",
    "    x.sort()\n",
    "\n",
    "    time, stationcount = [], [] # lists to create/append\n",
    "    c = 1 # counter\n",
    "    for s in x:\n",
    "        stationcount.append(c)\n",
    "        time.append(s)\n",
    "        c += 1\n",
    "\n",
    "    return time, stationcount # x,y"
   ]
  },
  {
   "cell_type": "code",
   "execution_count": 3,
   "metadata": {},
   "outputs": [
    {
     "name": "stdout",
     "output_type": "stream",
     "text": [
      "Downloading inventory from:\n",
      "https://fdsnws.raspberryshakedata.com/fdsnws/station/1/query?network=AM&station=*&location=00&channel=EHZ%2CSHZ&nodata=404\n"
     ]
    }
   ],
   "source": [
    "# set data start/end times\n",
    "fmt = '%Y-%m-%dT%H:%M:%S'.replace(':','%%3A')\n",
    "start = UTCDateTime(2016, 12, 1, 0, 0, 0).datetime # (YYYY, m, d, H, M, S)\n",
    "end = UTCDateTime.now().datetime # (YYYY, m, d, H, M, S)\n",
    "s = start.strftime(fmt)\n",
    "e = end.strftime(fmt)\n",
    "\n",
    "# set channels (comma separated list)\n",
    "ch = 'EHZ,SHZ'.replace(',', '%2C')\n",
    "\n",
    "# get inventory\n",
    "query = 'https://fdsnws.raspberryshakedata.com/fdsnws/station/1/query?network=AM&station=*&location=00&channel=%s&nodata=404' % (ch)\n",
    "print('Downloading inventory from:\\n%s' % query)\n",
    "inv = read_inventory(query)"
   ]
  },
  {
   "cell_type": "code",
   "execution_count": 4,
   "metadata": {},
   "outputs": [
    {
     "data": {
      "image/png": "[encoded data removed]",
      "text/plain": [
       "<Figure size 1008x576 with 1 Axes>"
      ]
     },
     "metadata": {
      "needs_background": "light"
     },
     "output_type": "display_data"
    }
   ],
   "source": [
    "time, stationcount = make_lists()\n",
    "fig, ax = make_plot(ymax=max(stationcount))\n",
    "plt.plot(time, stationcount, label='Online Stations')\n",
    "plt.legend(loc='upper left')\n",
    "plt.show()"
   ]
  },
  {
   "cell_type": "code",
   "execution_count": null,
   "metadata": {},
   "outputs": [],
   "source": []
  }
 ],
 "metadata": {
  "kernelspec": {
   "display_name": "Python 3",
   "language": "python",
   "name": "python3"
  },
  "language_info": {
   "codemirror_mode": {
    "name": "ipython",
    "version": 3
   },
   "file_extension": ".py",
   "mimetype": "text/x-python",
   "name": "python",
   "nbconvert_exporter": "python",
   "pygments_lexer": "ipython3",
   "version": "3.7.5"
  }
 },
 "nbformat": 4,
 "nbformat_minor": 2
}
